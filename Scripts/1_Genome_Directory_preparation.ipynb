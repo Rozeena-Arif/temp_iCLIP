{
 "cells": [
  {
   "cell_type": "markdown",
   "metadata": {},
   "source": [
    "In order to perform iCLIP2 data analysis, we would have following files with us.\n",
    "1. iCLIP2 fastq files (sequencing data)\n",
    "2. Human genome fasta File \n",
    "3. Human genome annotation file (GTF file)\n",
    "4. Virus genome fasta file\n",
    "5. Virus genome annotation file (GFF/GTF file)\n",
    "6. iCLIP2 barcode file\n",
    "\n",
    "Step 1 is to have all files in our respective folders\n",
    "\n",
    "1. Fetching sequencing data fastq files from given folder to my analysis folder.\n",
    "path given was as follows:\n",
    "\"/home5/castello_group/sequencing_data/iClip/240523_NB552751_0021_AHGKCCBGXW_iClip_NOP2_Innes/\""
   ]
  },
  {
   "cell_type": "code",
   "execution_count": 3,
   "metadata": {
    "vscode": {
     "languageId": "shellscript"
    }
   },
   "outputs": [],
   "source": [
    "!cd /home2/2459810a/iCLIP_analysis/NOP2_Innes/\n",
    "!mkdir -p Data/Merged\n",
    "\n",
    "!cat \\\n",
    "/home5/castello_group/sequencing_data/iClip/240523_NB552751_0021_AHGKCCBGXW_iClip_NOP2_Innes/iClip_NOP2_Innes_S1_R1_001.fastq.gz >\\\n",
    "Data/Merged/NOP2_iCLIP_RAW.fastq.gz "
   ]
  },
  {
   "cell_type": "markdown",
   "metadata": {
    "vscode": {
     "languageId": "shellscript"
    }
   },
   "source": [
    "The above code has given us our sequencing file in /Data/Merged folder.\n",
    "Sources of data used are:\n",
    "\n",
    "Human annotation: http://ftp.ensembl.org/pub/release-106/gtf/homo_sapiens/\n",
    "Homo_sapiens.GRCh38.106.gtf.gz\n",
    "\n",
    "Human fasta: http://ftp.ensembl.org/pub/release-106/fasta/homo_sapiens/dna/ Homo_sapiens.GRCh38.dna.primary_assembly.fa.gz\n",
    "\n",
    "SINV Fasta and GFF files have been copied from PURA analysis folder for the time being as Innes does not have that data with him.\n",
    "\n",
    "Files have been saved in iCLIP_analysis/NOP2_innes/ folder.\n",
    "\n",
    "We have to merge human and SINV fasta files to create a combined fasta file for analysis.\n",
    "Later, we will try to merge annotation files as well for both genomes."
   ]
  },
  {
   "cell_type": "code",
   "execution_count": 6,
   "metadata": {
    "vscode": {
     "languageId": "shellscript"
    }
   },
   "outputs": [],
   "source": [
    "!cat /home2/2459810a/iCLIP_analysis/NOP2_Innes/Homo_sapiens.GRCh38.dna.primary_assembly.fa /home2/2459810a/iCLIP_analysis/NOP2_Innes/SINV_fasta.fa | \\\n",
    "gzip > /home2/2459810a/iCLIP_analysis/NOP2_Innes/HS.GRCh38.SINV.fa.gz"
   ]
  },
  {
   "cell_type": "markdown",
   "metadata": {
    "vscode": {
     "languageId": "shellscript"
    }
   },
   "source": [
    "We will Convert downloaded gff to gtf.\n",
    "\n",
    "There are different requirements of the genome for htseq, relative to alignment. A new 'fixed' version of the SINV annotation needed to be made. This might have been a problem specific to this genome annotation so might not be necessary with the new genome annotation.\n"
   ]
  },
  {
   "cell_type": "code",
   "execution_count": null,
   "metadata": {
    "vscode": {
     "languageId": "shellscript"
    }
   },
   "outputs": [],
   "source": [
    "# !conda update -n base -c defaults conda\n",
    "# conda install -c bioconda agat\n",
    "!agat_convert_sp_gff2gtf.pl \\\n",
    "--gff /home2/2459810a/iCLIP_analysis/NOP2_Innes/SINV_genome_annotation.gff3 \\\n",
    "--gtf_version 3 \\\n",
    "--output /home2/2459810a/iCLIP_analysis/NOP2_Innes/SINV_anno.gtf\n",
    "\n"
   ]
  },
  {
   "cell_type": "code",
   "execution_count": null,
   "metadata": {
    "vscode": {
     "languageId": "shellscript"
    }
   },
   "outputs": [],
   "source": [
    "#  i performed this step on my local computer as i could not resolve library packages in R on VS code soomehow \n",
    "library(dplyr)\n",
    "library(GenomicRanges)\n",
    "library(rtracklayer)\n",
    "library(tidyverse)\n",
    "library(Biostrings)\n",
    "\n",
    "read_tsv(\"./SINV_anno.gtf\", skip = 3, col_names = FALSE) %>%\n",
    "  mutate(X9 = str_replace(X9, \"original_biotype\", \"gene_biotype\")) %>%\n",
    "  mutate(X9 = case_when(\n",
    "    str_detect(X9, \"UTR\") & !str_detect(X9, \"gene_biotype\") ~ paste0(X9, \" gene_biotype \\\"rna\\\";\"),\n",
    "    TRUE ~ X9\n",
    "  )) %>%\n",
    "  mutate(X9 = case_when(\n",
    "    str_detect(X9, \"gene_biotype\") ~ X9,\n",
    "    TRUE ~ paste0(X9, \" gene_biotype \\\"protein_coding\\\";\")\n",
    "  )) %>%\n",
    "  mutate(X9 = str_remove_all(X9, \"\\\"Genbank:.*\\\" \")) %>%\n",
    "  write_tsv(\"./GENOMEDIR/sliding_window/SINV_annotation_fixed.gtf\", \n",
    "            col_names = FALSE, escape = \"none\")"
   ]
  },
  {
   "cell_type": "code",
   "execution_count": 3,
   "metadata": {
    "vscode": {
     "languageId": "shellscript"
    }
   },
   "outputs": [],
   "source": [
    "# combining human and SINV annotation \n",
    "!mkdir -p /home2/2459810a/iCLIP_analysis/NOP2_Innes/GENOMEDIR/sliding_window\n",
    "\n",
    "!cat \\\n",
    "/home2/2459810a/iCLIP_analysis/NOP2_Innes/Homo_sapiens.GRCh38.106.gtf \\\n",
    "/home2/2459810a/iCLIP_analysis/NOP2_Innes/GENOMEDIR/SINV_annotation_fixed.gtf >\\\n",
    "/home2/2459810a/iCLIP_analysis/NOP2_Innes/GENOMEDIR/sliding_window/HS.GRCh38.SINV_attributefix.gtf\n"
   ]
  },
  {
   "cell_type": "markdown",
   "metadata": {
    "vscode": {
     "languageId": "shellscript"
    }
   },
   "source": [
    "### Add missing gene_name attributes to ensembl gtf\n",
    "Ensembl GTF and GFF3 have some missing 'gene_name' attributes --> Fix with pygtftk  "
   ]
  },
  {
   "cell_type": "code",
   "execution_count": null,
   "metadata": {
    "vscode": {
     "languageId": "shellscript"
    }
   },
   "outputs": [],
   "source": [
    "# conda create -n pygtftk python=3.9\n",
    "# !conda init\n",
    "!conda activate pygtftk\n",
    "# Get number of unique gene_id, gene_name, transcript_id, transcript_name (to check #gene_name < gene_id; #transcript_name < transcript_id)\n",
    "!gtftk count_key_values \\\n",
    "-u -i /home2/2459810a/iCLIP_analysis/NOP2_Innes/GENOMEDIR/sliding_window/HS.GRCh38.SINV_attributefix.gtf \\\n",
    "-k gene_id,gene_name,transcript_id,transcript_name\n",
    "\n",
    "# Create new gene_name as gene_name|gene_id\n",
    "!gtf=/home2/2459810a/iCLIP_analysis/NOP2_Innes/GENOMEDIR/sliding_window/HS.GRCh38.SINV_attributefix.gtf\n",
    "!base=$(basename \"$gtf\")\n",
    "!output=\"/home2/2459810a/iCLIP_analysis/NOP2_Innes/GENOMEDIR/sliding_window/$(echo ${base} |sed -e 's/.gtf/_with_gn.gtf/')\"\n",
    "\n",
    "!gtftk merge_attr \\\n",
    "-i $gtf \\\n",
    "-k gene_name,gene_id \\\n",
    "-d gene_name > $output\n",
    "\n",
    "# Create new transcript_name as transcript_name|transcript_id\n",
    "!gtf=/home2/2459810a/iCLIP_analysis/NOP2_Innes/GENOMEDIR/sliding_window/HS.GRCh38.SINV_attributefix_with_gn.gtf\n",
    "!base=$(basename \"$gtf\")\n",
    "!output=\"/home2/2459810a/iCLIP_analysis/NOP2_Innes/GENOMEDIR/sliding_window/$(echo ${base} |sed -e 's/_with_gn.gtf/_with_gn_tn.gtf/')\"\n",
    "\n",
    "!gtftk merge_attr \\\n",
    "-i $gtf \\\n",
    "-k transcript_name,transcript_id \\\n",
    "-d transcript_name > $output\n",
    "\n",
    "# Check the number of gene_id/name and transcript_id/name match\n",
    "!gtftk count_key_values \\\n",
    "-u -i /home2/2459810a/iCLIP_analysis/NOP2_Innes/GENOMEDIR/sliding_window/HS.GRCh38.SINV_attributefix_with_gn_tn.gtf \\\n",
    "-k gene_id,gene_name,transcript_id,transcript_name\n",
    "\n",
    "!conda deactivate"
   ]
  },
  {
   "cell_type": "code",
   "execution_count": null,
   "metadata": {
    "vscode": {
     "languageId": "shellscript"
    }
   },
   "outputs": [],
   "source": [
    "### Flatten annotation\n",
    "\n",
    "\n",
    "file=/home2/2459810a/iCLIP_analysis/NOP2_Innes/GENOMEDIR/sliding_window/HS.GRCh38.SINV_attributefix_with_gn_tn.gtf\n",
    "base=$(basename $file _with_gn_tn.gtf)\n",
    "\n",
    "# /home4/2711498i/miniconda3/envs/htseq-clip/bin/htseq-clip annotation \\\n",
    "htseq-clip annotation \\\n",
    "-g $file \\\n",
    "-u gene_id \\\n",
    "-n gene_name \\\n",
    "-t gene_biotype \\\n",
    "--splitExons \\\n",
    "--unsorted \\\n",
    "-o /home2/2459810a/iCLIP_analysis/NOP2_Innes/GENOMEDIR/sliding_window/$(echo ${base}).flattened.annotation.txt.gz\n",
    "\n",
    "\n",
    "\n",
    "### Create sliding window\n",
    "\n",
    "# 50/20 - as in Hentze ENO1 paper\n",
    "htseq-clip createSlidingWindows \\\n",
    "-i /home2/2459810a/iCLIP_analysis/NOP2_Innes/GENOMEDIR/sliding_window/HS.GRCh38.SINV_attributefix.flattened.annotation.txt.gz \\\n",
    "-w 50 \\\n",
    "-s 20 \\\n",
    "-o /home2/2459810a/iCLIP_analysis/NOP2_Innes/GENOMEDIR/sliding_window//HS.GRCh38.SINV_attribute-fix.flattened.w50s20.txt.gz\n",
    "\n",
    "\n",
    "\n",
    "### Create annotation ID file\n",
    "\n",
    "\n",
    "htseq-clip mapToId \\\n",
    "-a /home2/2459810a/iCLIP_analysis/NOP2_Innes/GENOMEDIR/sliding_window//HS.GRCh38.SINV_attribute-fix.flattened.w50s20.txt.gz \\\n",
    "-o /home2/2459810a/iCLIP_analysis/NOP2_Innes/GENOMEDIR/sliding_window/HS.GRCh38.SINV_attribute-fix.flattened.w50s20.maptoid.txt.gz\n",
    "\n",
    "\n",
    "### Calculate chromosome size \n",
    "\n",
    "\n",
    "samtools faidx /home2/2459810a/iCLIP_analysis/NOP2_Innes/HS.GRCh38.SINV.fa.gz\n",
    "\n",
    "cut -f1,2 /home2/2459810a/iCLIP_analysis/NOP2_Innes/HS.GRCh38.SINV.fa.fai > /home2/2459810a/iCLIP_analysis/NOP2_Innes/GENOMEDIR/sizes.genome\n",
    "\n",
    "\n",
    "\n"
   ]
  },
  {
   "cell_type": "markdown",
   "metadata": {},
   "source": [
    "up until this step, genome directory preparation steps are completed. Now we will perform quality checks on fastq reads, remove barcodes and terminal sequences and perform alignment. "
   ]
  },
  {
   "cell_type": "code",
   "execution_count": null,
   "metadata": {
    "vscode": {
     "languageId": "shellscript"
    }
   },
   "outputs": [],
   "source": [
    "\n",
    "# Now initial analysis\n",
    "\n",
    "echo \"Remove PhiX reads\"\n",
    "\n",
    "/software/bbmap-v38.90/bbduk.sh \\\n",
    "in=Data/Merged/NOP2_iCLIP_RAW.fastq.gz  \\\n",
    "out=Data/Merged/NOP2_iCLIP_rmPhiX.fastq.gz \\\n",
    "ref=/software/bbmap-v38.90/resources/phix174_ill.ref.fa.gz \\\n",
    "k=31 hdist=1 -Xmx16g threads=8 \\\n",
    "stats=Data/Merged/NOP2_iCLIP_rmPhiX.stats.txt\n",
    "\n",
    "echo \"Full dataset sequencing QC\"\n",
    "\n",
    "mkdir -p Data/Merged/FastQC\n",
    "\n",
    "for file in Data/Merged/*_rmPhiX.fastq.gz\n",
    "do\n",
    "echo \"Processing file $file\"\n",
    "fastqc $file -o Data/Merged/FastQC\n",
    "echo \"\"\n",
    "done \n",
    "\n",
    "mkdir -p Plots/QC\n",
    "\n",
    "multiqc -f \\\n",
    "Data/Merged/FastQC/*_fastqc.zip \\\n",
    "-o Plots/QC \\\n",
    "-n 01_Sequencing-runs_MultiQC-report\n",
    "\n",
    "\n",
    "echo \"Count barcode frequencies\"\n",
    "\n",
    "zcat Data/Merged/NOP2_iCLIP_rmPhiX.fastq.gz | awk -v umi1_len=5 -v exp_bc_len=6 '{if (FNR%4==2) print substr($1,(umi1_len+1),exp_bc_len)}' | sort | uniq -c | sort -k1,1rn>barcode_freqs\n",
    "\n",
    "echo \"Demultiplex reads\"\n",
    "\n",
    "mkdir -p Trimming/Demultiplex\n",
    "\n",
    "java -jar /software/je_1.2/je_1.2_bundle.jar demultiplex \\\n",
    "F1=Data/Merged/NOP2_iCLIP_rmPhiX.fastq.gz \\\n",
    "BF=GENOMEDIR/NOP2_barcodes_file.txt \\\n",
    "RCHAR=':' \\\n",
    "O=Trimming/Demultiplex \\\n",
    "UF1=Unassigned_NOP2_iCLIP_merged_jemultiplexer.fastq \\\n",
    "M=NOP2_iCLIP_merged_jemultiplexer_out_stats.txt \\\n",
    "FASTQ_FILE_EXTENSION=fastq\n",
    "\n",
    "echo \"Demultiplexed reads QC\"\n",
    "\n",
    "mkdir -p Trimming/Demultiplex/FastQC\n",
    "\n",
    "for file in Trimming/Demultiplex/*.fastq.gz\n",
    "do\n",
    "echo \"Processing file $file\"\n",
    "fastqc $file -o Trimming/Demultiplex/FastQC\n",
    "echo \"\"\n",
    "done \n",
    "\n",
    "multiqc -f \\\n",
    "Trimming/Demultiplex/FastQC/*_fastqc.zip \\\n",
    "-o Plots/QC \\\n",
    "-n 02_Libraries_MultiQC-report\n",
    "\n",
    "echo \"Adapter trimming\"\n",
    "\n",
    "mkdir -p Trimming/Adapter\n",
    "\n",
    "for file in Trimming/Demultiplex/*.fastq.gz\n",
    "do\n",
    "[[ $file == *Unassigned*.fastq.gz ]] && continue \n",
    "echo \"\" \n",
    "echo \"Processing file $file\" \n",
    "base=$(basename \"$file\") \n",
    "outfile=\"$(echo ${base} |sed -e 's/.fastq.gz/_trimmed.fastq.gz/')\" \n",
    "outshort=\"$(echo ${base} |sed -e 's/.fastq.gz/_trimmed.fastq.tooshort.gz/')\" \n",
    "outinfo=\"$(echo ${base} |sed -e 's/.fastq.gz/_trimmed.info/')\" \n",
    "cutadapt $file \\\n",
    "-a AGATCGGAAGAGCGGTTCAG \\\n",
    "-j 4 -e 0.1 -O 1 --nextseq-trim 10 --minimum-length 15 \\\n",
    "-o Trimming/Adapter/$outfile \\\n",
    "--too-short-output Trimming/Adapter/$outshort > \\\n",
    "Trimming/Adapter/$outinfo \n",
    "echo \"\" \n",
    "done\n",
    "\n",
    "echo \"Adapter trimming QC\"\n",
    "\n",
    "multiqc -f \\\n",
    "Trimming/Adapter/*_trimmed.info \\\n",
    "-o Plots/QC \\\n",
    "-n 03_Cutadapt_MultiQC-report\n",
    "\n",
    "echo \"Assess rRNA contamination\"\n",
    "\n",
    "mkdir -p Trimming/rRNA\n",
    "\n",
    "for file in Trimming/Adapter/*.fastq.gz\n",
    "do\n",
    "echo \"\"\n",
    "base=$(basename $file .fastq.gz)\n",
    "echo \"Processing $file\"\n",
    "/software/bbmap-v38.90/bbduk.sh \\\n",
    "-Xmx24G \\\n",
    "in=$file \\\n",
    "out=Trimming/rRNA/$(echo ${base}).minus.rRNA.fastq.gz \\\n",
    "ref=GENOMEDIR/Hsap_rDNA_U13369.1.fa \\\n",
    "k=25 \\\n",
    "stats=Trimming/rRNA/$(echo ${base}).rRNA.stat.txt \\\n",
    "hdist=1\n",
    "echo \"\"\n",
    "done\n",
    "\n",
    "echo \"Unzip fastqs\"\n",
    "\n",
    "\n",
    "for file in Trimming/Adapter/*_trimmed.fastq.gz \n",
    "do \n",
    "gunzip -f $file \n",
    "done\n"
   ]
  },
  {
   "cell_type": "markdown",
   "metadata": {
    "vscode": {
     "languageId": "shellscript"
    }
   },
   "source": [
    "Alignment of the reads to the merged genome of human and SINV"
   ]
  },
  {
   "cell_type": "code",
   "execution_count": null,
   "metadata": {
    "vscode": {
     "languageId": "shellscript"
    }
   },
   "outputs": [],
   "source": [
    "# make the STAR object\n",
    "\n",
    "STAR --runThreadN 8 --runMode genomeGenerate \\\n",
    "--genomeFastaFiles HS.GRCh38.SINV.fa \\\n",
    "--sjdbGTFfile GENOMEDIR/sliding_window/HS.GRCh38.SINV_attributefix_with_gn_tn.gtf \\\n",
    "--genomeDir STAR \\\n",
    "--alignSJoverhangMin 8 --sjdbOverhang 100 \\\n",
    "--limitGenomeGenerateRAM 31000000000 --genomeSAindexNbases 10 --genomeSAsparseD 4\n"
   ]
  },
  {
   "cell_type": "code",
   "execution_count": null,
   "metadata": {
    "vscode": {
     "languageId": "shellscript"
    }
   },
   "outputs": [],
   "source": [
    "echo \"Align reads\"\n",
    "\n",
    "mkdir -p Alignment \n",
    "\n",
    "for file in Trimming/Adapter/*_trimmed.fastq \n",
    "do \n",
    "echo \"\" \n",
    "echo \"Processing file $file\" \n",
    "base=$(basename \"$file\") \n",
    "outdir=\"$(echo ${base} |sed -e 's/_trimmed.fastq//')\" \n",
    "mkdir Alignment/$outdir \n",
    "STAR --runMode alignReads --runThreadN 8 \\\n",
    "--outSAMtype BAM SortedByCoordinate \\\n",
    "--genomeDir STAR \\\n",
    "--sjdbGTFfile GENOMEDIR/sliding_window/HS.GRCh38.SINV_attributefix_with_gn_tn.gtf \\\n",
    "--readFilesIn $file --outFileNamePrefix Alignment/$outdir/ \\\n",
    "--outReadsUnmapped Fastx \\\n",
    "--outFilterMismatchNmax 999 \\\n",
    "--outFilterMultimapNmax 1 \\\n",
    "--outFilterMismatchNoverLmax 0.04 \\\n",
    "--outSJfilterReads Unique \\\n",
    "--alignEndsType EndToEnd\n",
    "echo \"\" \n",
    "done "
   ]
  },
  {
   "cell_type": "code",
   "execution_count": null,
   "metadata": {
    "vscode": {
     "languageId": "shellscript"
    }
   },
   "outputs": [],
   "source": [
    "multiqc -f \\\n",
    "Alignment/*/*Log.final.out \\\n",
    "-o ./ \\\n",
    "-n 05_STAR_MultiQC-report\n",
    "\n",
    "\n",
    "mkdir -p Alignment_idxstats\n",
    "\n",
    "for dir in $(ls -d Alignment/*/) \n",
    "do\n",
    "echo \"\" \n",
    "file=$dir/Aligned.sortedByCoord.out.bam \n",
    "base=$(basename \"$dir\") \n",
    "output=\"Alignment_idxstats/$(echo ${base}).idxstats.txt\"  \n",
    "echo \"Processing file $file\" \n",
    "samtools index $file \n",
    "samtools idxstats $file > $output \n",
    "done\n",
    "\n",
    "echo \"Alignment QC\"\n",
    "\n",
    "multiqc -f \\\n",
    "Alignment_idxstats/*idxstats.txt \\\n",
    "-o ./ \\\n",
    "-n 06_Chromosome-mapping-pre-dedup_MultiQC-report\n",
    "\n",
    "echo \"Alignment QC\"\n",
    "\n",
    "mkdir -p Dedup \n",
    "\n",
    "for dir in $(ls -d Alignment/*/) \n",
    "do\n",
    "echo \"\" \n",
    "input=$dir/Aligned.sortedByCoord.out.bam \n",
    "base=$(basename \"$dir\") \n",
    "output=\"Dedup/$(echo ${base}).dedup.je.bam\" \n",
    "outlog=\"Dedup/$(echo ${base}).dedup.je.log\" \n",
    "metrics=\"Dedup/$(echo ${base}).dedup.je.metrics\" \n",
    "java -jar /software/je_1.2/je_1.2_bundle.jar markdupes \\\n",
    "I=$input \\\n",
    "O=$output \\\n",
    "M=$metrics \\\n",
    "REMOVE_DUPLICATES=True \\\n",
    "MM=1 >\\\n",
    "$outlog\n",
    "echo \"\" \n",
    "done\n",
    "\n",
    "\n",
    "mkdir -p Dedup_idxstats\n",
    "\n",
    "for file in $(ls Dedup/*.dedup.je.bam) \n",
    "do\n",
    "echo \"\" \n",
    "echo \"Processing file $file\" \n",
    "base=$(basename \"$file\") \n",
    "output=\"Dedup_idxstats/$(echo ${base} |sed -e 's/.dedup.je.bam/.idxstats.txt/')\" \n",
    "samtools index \"$file\" \n",
    "samtools idxstats $file > $output\n",
    "done\n",
    "\n",
    "\n",
    "multiqc -f \\\n",
    "Dedup_idxstats/*idxstats.txt \\\n",
    "-o ./ \\\n",
    "-n 07_Chromosome-mapping-post-dedup_MultiQC-report\n",
    "\n",
    "\n",
    "outfile='Trimming/Demultiplex/Raw-read-counts.txt' \n",
    "\n",
    "for file in $(ls Trimming/Demultiplex/*.fastq.gz)\n",
    "do\n",
    "echo \"File is $file\"\n",
    "base=$(basename \"$file\" .fastq.gz) \n",
    "count=$(echo $(zcat $file | wc -l) / 4 | bc) \n",
    "echo \"Count is $count\"\n",
    "echo \"$base $count\">> $outfile\n",
    "done\n",
    "\n",
    "outfile='Trimming/Adapter/Trimmed-read-counts.txt' \n",
    "\n",
    "for file in $(ls Trimming/Adapter/*.fastq)\n",
    "do\n",
    "echo \"File is $file\"\n",
    "base=$(basename \"$file\" _trimmed.fastq) \n",
    "count=$(echo $(expr $(cat $file | wc -l) / 4)) \n",
    "echo \"Count is $count\"\n",
    "echo \"$base $count\">> $outfile\n",
    "done\n",
    "\n",
    "\n",
    "outfile='Alignment/Unique-map-read-counts.txt'\n",
    "\n",
    "for dir in $(ls -d Alignment/*/) \n",
    "do\n",
    "echo \"\" \n",
    "file=$dir/Aligned.sortedByCoord.out.bam \n",
    "base=$(basename \"$dir\") \n",
    "echo \"File is $file\" \n",
    "count=$(samtools view -c $file) \n",
    "echo \"Count is $count\"\n",
    "echo \"$base $count\" >> $outfile\n",
    "done\n",
    "\n",
    "\n",
    "outfile='Dedup/Dedup-read-counts.txt'\n",
    "\n",
    "for file in $(ls Dedup/*.dedup.je.bam) \n",
    "do\n",
    "echo \"\" \n",
    "echo \"File is $file\" \n",
    "base=$(basename \"$file\" .dedup.je.bam) \n",
    "count=$(samtools view -c $file) \n",
    "echo \"Count is $count\"\n",
    "echo \"$base $count\" >> $outfile\n",
    "done\n",
    "\n"
   ]
  },
  {
   "cell_type": "code",
   "execution_count": null,
   "metadata": {
    "vscode": {
     "languageId": "shellscript"
    }
   },
   "outputs": [],
   "source": [
    "mkdir -p Xlsite/collapsed\n",
    "mkdir -p Xlsite/shifted/bed\n",
    "\n",
    "for file in Dedup/*.dedup.je.bam \n",
    "do\n",
    "echo \"Processing $file\" \n",
    "base=$(basename $file) \n",
    "outbed=\"Xlsite/collapsed/$(echo ${base} |sed -e 's/.dedup.je.bam/.collapsed.bed/')\" \n",
    "outbedshifted=\"Xlsite/shifted/bed/$(echo ${base} |sed -e 's/.dedup.je.bam/.shifted.bed/')\" \n",
    "bedtools bamtobed -i $file > $outbed \n",
    "bedtools shift -m 1 -p -1 -i $outbed -g GENOMEDIR/sizes.genome > $outbedshifted \n",
    "echo \"\"\n",
    "done\n",
    "\n",
    "mkdir -p Xlsite/shifted/bedgraph\n",
    "\n",
    "for file in Xlsite/shifted/bed/*.shifted.bed \n",
    "do \n",
    "echo \"Processing $file\" \n",
    "base=$(basename $file .shifted.bed) \n",
    "outbgplus=\"Xlsite/shifted/bedgraph/$(echo ${base}).XL.RPM.+.bedgraph\" \n",
    "outbgminus=\"Xlsite/shifted/bedgraph/$(echo ${base}).XL.RPM.-.bedgraph\" \n",
    "TmpScale=$(bc <<< \"scale=6;1000000/$(awk -v var=\"$base\" '$1 == var { print $2}' Dedup/Dedup-read-counts.txt)\") \n",
    "bedtools genomecov -bg -strand + -5 -i $file -g GENOMEDIR/sizes.genome -scale $TmpScale > $outbgplus \n",
    "bedtools genomecov -bg -strand - -5 -i $file -g GENOMEDIR/sizes.genome -scale $TmpScale > $outbgminus \n",
    "echo \"\"\n",
    "done\n",
    "\n",
    "\n",
    "mkdir -p Xlsite/shifted/bedgraph_sorted\n",
    "\n",
    "LC_COLLATE=C\n",
    "\n",
    "for file in Xlsite/shifted/bedgraph/*.bedgraph \n",
    "do \n",
    "echo \"Processing $file\" \n",
    "base=$(basename $file .bedgraph) \n",
    "output=\"Xlsite/shifted/bedgraph_sorted/$(echo ${base}).sorted.bedgraph\" \n",
    "sort -k1,1 -k2,2n $file > $output\n",
    "echo \"\"\n",
    "done\n",
    "\n",
    "# generating error as follows:\n",
    "#  bedGraphToBigWig in.bedGraph chrom.sizes out.bw\n",
    "# where in.bedGraph is a four column file in the format:\n",
    "#       <chrom> <start> <end> <value>\n",
    "# and chrom.sizes is two column: <chromosome name> <size in bases>\n",
    "# and out.bw is the output indexed big wig file.\n",
    "# Use the script: fetchChromSizes to obtain the actual chrom.sizes information\n",
    "# from UCSC, please do not make up a chrom sizes from your own information.\n",
    "# The input bedGraph file must be sorted, use the unix sort command:\n",
    "#   sort -k1,1 -k2,2n unsorted.bedGraph > sorted.bedGraph\n",
    "mkdir -p Xlsite/shifted/bw\n",
    "\n",
    "for file in Xlsite/shifted/bedgraph_sorted/*.bedgraph \n",
    "do \n",
    "echo \"Processing $file\" \n",
    "base=$(basename $file .sorted.bedgraph) \n",
    "output=\"Xlsite/shifted/bw/$(echo ${base}).bw\" \n",
    "/software/kentUtils-v302.1.0/bin/linux.x86_64/bedGraphToBigWig –switches $file GENOMEDIR/sizes.genome $output\n",
    "echo \"\"\n",
    "done\n",
    "\n",
    "mkdir -p DEW-seq/Extract\n",
    "\n",
    "for file in Dedup/*.dedup.je.bam\n",
    "do\n",
    "echo \"File is $file\"\n",
    "base=$(basename \"$file\")\n",
    "output=\"DEW-seq/Extract/$(echo ${base} |sed -e 's/.dedup.je.bam/.extract.bed/')\"\n",
    "htseq-clip extract \\\n",
    "-i $file \\\n",
    "-e 1 \\\n",
    "-s s \\\n",
    "-g -1 \\\n",
    "--ignore \\\n",
    "-o $output\n",
    "echo \"\"\n",
    "done\n",
    " \n",
    "mkdir -p DEW-seq/Count_w50s20\n",
    "\n",
    "for file in DEW-seq/Extract/*.bed\n",
    "do\n",
    "echo \"File is $file\"\n",
    "base=$(basename \"$file\")\n",
    "output=\"DEW-seq/Count_w50s20/$(echo ${base} |sed -e 's/.extract.bed/.count.bed/')\"\n",
    "htseq-clip count \\\n",
    "-i $file \\\n",
    "-a GENOMEDIR/sliding_window/HS.GRCh38.SINV_attribute-fix.flattened.w50s20.txt.gz \\\n",
    "-o $output\n",
    "echo \"\"\n",
    "done\n",
    "\n",
    "\n",
    "mkdir -p DEW-seq/Matrix_w50s20\n",
    "\n",
    "htseq-clip createMatrix \\\n",
    "-i DEW-seq/Count_w50s20 \\\n",
    "-e .bed \\\n",
    "-o DEW-seq/Matrix_w50s20/Full_NOP2_iCLIP.matrix.txt.gz\n",
    "\n",
    "\n"
   ]
  },
  {
   "cell_type": "markdown",
   "metadata": {},
   "source": [
    "we will proceed to the DEWseq analysis in the second script file named as Downstream analysis.Rmd "
   ]
  }
 ],
 "metadata": {
  "kernelspec": {
   "display_name": "iCLIP_hackathon",
   "language": "python",
   "name": "python3"
  },
  "language_info": {
   "codemirror_mode": {
    "name": "ipython",
    "version": 3
   },
   "file_extension": ".py",
   "mimetype": "text/x-python",
   "name": "python",
   "nbconvert_exporter": "python",
   "pygments_lexer": "ipython3",
   "version": "3.10.8"
  }
 },
 "nbformat": 4,
 "nbformat_minor": 2
}
